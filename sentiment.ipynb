{
  "nbformat": 4,
  "nbformat_minor": 0,
  "metadata": {
    "colab": {
      "provenance": []
    },
    "kernelspec": {
      "name": "python3",
      "display_name": "Python 3"
    },
    "language_info": {
      "name": "python"
    }
  },
  "cells": [
    {
      "cell_type": "markdown",
      "source": [
        "# Sentiment Analysis\n",
        "Goal: To analyze the sentiment (positive, negative, neutral) of the responses so that the overall tone of the feedback for each question can be gauged and issues can be prioritized accordingly."
      ],
      "metadata": {
        "id": "Im8Rjz89yjEh"
      }
    },
    {
      "cell_type": "code",
      "execution_count": 1,
      "metadata": {
        "id": "C0LUL9TQyXjN"
      },
      "outputs": [],
      "source": [
        "# import the necessary libraries\n",
        "import pandas as pd\n",
        "from textblob import TextBlob"
      ]
    },
    {
      "cell_type": "code",
      "source": [
        "# Load your dataset file into a DataFrame\n",
        "\n",
        "data = 'https://docs.google.com/spreadsheets/d/xxx/export'\n",
        "df = pd.read_excel(data)"
      ],
      "metadata": {
        "id": "Z87O-3B3zmvD"
      },
      "execution_count": 2,
      "outputs": []
    },
    {
      "cell_type": "code",
      "source": [
        "# Define the function that analyzes sentiments from a given column\n",
        "def sentiment_analysis(column_data):\n",
        "    sentiments = column_data.dropna().apply(lambda x: TextBlob(x).sentiment.polarity)\n",
        "    sentiment_summary = {\n",
        "        'positive': sum(sentiments > 0),\n",
        "        'negative': sum(sentiments < 0),\n",
        "        'neutral': sum(sentiments == 0)\n",
        "    }\n",
        "    return sentiment_summary"
      ],
      "metadata": {
        "id": "KdvmnfyW1W6w"
      },
      "execution_count": 3,
      "outputs": []
    },
    {
      "cell_type": "code",
      "source": [
        "# Apply sentiment analysis to each question\n",
        "sentiment_q1 = sentiment_analysis(df['Insert your QUESTION 1 here from a specific column in the feedback data'])\n",
        "sentiment_q2 = sentiment_analysis(df['Insert your QUESTION 2 here from a specific column in the feedback data'])\n",
        "sentiment_q3 = sentiment_analysis(df['Insert your QUESTION 3 here from a specific column in the feedback data'])\n",
        "# Add more questions if you have\n",
        "\n",
        "print(\"Sentiment Analysis for Question 1:\", sentiment_q1)\n",
        "print(\"Sentiment Analysis for Question 2:\", sentiment_q2)\n",
        "print(\"Sentiment Analysis for Question 3:\", sentiment_q3)"
      ],
      "metadata": {
        "id": "2mVR236J1jLB"
      },
      "execution_count": null,
      "outputs": []
    }
  ]
}