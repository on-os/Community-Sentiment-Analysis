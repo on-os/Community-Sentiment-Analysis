{
  "nbformat": 4,
  "nbformat_minor": 0,
  "metadata": {
    "colab": {
      "provenance": []
    },
    "kernelspec": {
      "name": "python3",
      "display_name": "Python 3"
    },
    "language_info": {
      "name": "python"
    }
  },
  "cells": [
    {
      "cell_type": "markdown",
      "source": [
        "# Aspect-Based Sentiment Analysis (ABSA)\n",
        "Goal: To capture and store the words associated with positive, negative, and neutral sentiments."
      ],
      "metadata": {
        "id": "u-DVsx8XPBs-"
      }
    },
    {
      "cell_type": "code",
      "execution_count": 1,
      "metadata": {
        "id": "wMT5iaQk_MLZ"
      },
      "outputs": [],
      "source": [
        "# import the necessary libraries\n",
        "import pandas as pd\n",
        "from textblob import TextBlob\n",
        "import nltk\n",
        "from nltk.tokenize import word_tokenize"
      ]
    },
    {
      "cell_type": "code",
      "source": [
        "# Load your dataset file into a DataFrame\n",
        "\n",
        "data = 'https://docs.google.com/spreadsheets/d/xxx/export'\n",
        "df = pd.read_excel(data)"
      ],
      "metadata": {
        "id": "O6P6fB83PdiK"
      },
      "execution_count": null,
      "outputs": []
    },
    {
      "cell_type": "code",
      "source": [
        "# Download NLTK data\n",
        "nltk.download('punkt')"
      ],
      "metadata": {
        "colab": {
          "base_uri": "https://localhost:8080/"
        },
        "id": "q6LRhH5YQW3Z",
        "outputId": "7231b53d-56db-4398-e410-0180a43095d0"
      },
      "execution_count": 3,
      "outputs": [
        {
          "output_type": "stream",
          "name": "stderr",
          "text": [
            "[nltk_data] Downloading package punkt to /root/nltk_data...\n",
            "[nltk_data]   Unzipping tokenizers/punkt.zip.\n"
          ]
        },
        {
          "output_type": "execute_result",
          "data": {
            "text/plain": [
              "True"
            ]
          },
          "metadata": {},
          "execution_count": 3
        }
      ]
    },
    {
      "cell_type": "code",
      "source": [
        "# Define the function that analyzes sentiment from a given column\n",
        "def sentiment_analysis_with_words(column_data):\n",
        "    positive_words = []\n",
        "    negative_words = []\n",
        "    neutral_words = []\n",
        "\n",
        "    # Define the function that extract words by sentiment category from the column\n",
        "    def analyze_sentiment(response):\n",
        "        blob = TextBlob(response)\n",
        "        sentiment = blob.sentiment.polarity\n",
        "        words = word_tokenize(response.lower())\n",
        "        if sentiment > 0:\n",
        "            positive_words.extend([word for word in words if word.isalnum()])\n",
        "        elif sentiment < 0:\n",
        "            negative_words.extend([word for word in words if word.isalnum()])\n",
        "        else:\n",
        "            neutral_words.extend([word for word in words if word.isalnum()])\n",
        "        return sentiment\n",
        "\n",
        "    sentiments = column_data.dropna().apply(analyze_sentiment)\n",
        "    sentiment_summary = {\n",
        "        'positive': sum(sentiments > 0),\n",
        "        'negative': sum(sentiments < 0),\n",
        "        'neutral': sum(sentiments == 0),\n",
        "        'positive_words': positive_words,  # Store the positive words\n",
        "        'negative_words': negative_words,  # Store the negative words\n",
        "        'neutral_words': neutral_words    # Store the neutral words\n",
        "    }\n",
        "    return sentiment_summary"
      ],
      "metadata": {
        "id": "pu5jrMcYQZY5"
      },
      "execution_count": 17,
      "outputs": []
    },
    {
      "cell_type": "code",
      "source": [
        "# Apply sentiment analysis to each question\n",
        "sentiment_q1 = sentiment_analysis_with_words(df['Insert your QUESTION 1 here from a specific column in the feedback data'])\n",
        "sentiment_q2 = sentiment_analysis_with_words(df['Insert your QUESTION 2 here from a specific column in the feedback data'])\n",
        "sentiment_q3 = sentiment_analysis_with_words(df['Insert your QUESTION 3 here from a specific column in the feedback data'])"
      ],
      "metadata": {
        "id": "7Eaawj-OR99s"
      },
      "execution_count": null,
      "outputs": []
    },
    {
      "cell_type": "code",
      "source": [
        "# Print the sentiment summary\n",
        "print(\"Sentiment Analysis for Question 1:\", sentiment_q1)\n",
        "print(\"Sentiment Analysis for Question 2:\", sentiment_q2)\n",
        "print(\"Sentiment Analysis for Question 3:\", sentiment_q3)"
      ],
      "metadata": {
        "id": "bHoMt7WsSXwL"
      },
      "execution_count": null,
      "outputs": []
    },
    {
      "cell_type": "code",
      "source": [
        "# Print the positive, negative, and neutral words specifically for QUESTION 1\n",
        "print(\"\\nPositive words for Question 1:\", sentiment_q1['positive_words'])\n",
        "print(\"Negative words for Question 1:\", sentiment_q1['negative_words'])\n",
        "print(\"Neutral words for Question 1:\", sentiment_q1['neutral_words'])"
      ],
      "metadata": {
        "id": "70YOOr3ASdym"
      },
      "execution_count": null,
      "outputs": []
    },
    {
      "cell_type": "code",
      "source": [
        "# Print the positive, negative, and neutral words specifically for QUESTION 2\n",
        "print(\"\\nPositive words for Question 2:\", sentiment_q2['positive_words'])\n",
        "print(\"Negative words for Question 2:\", sentiment_q2['negative_words'])\n",
        "print(\"Neutral words for Question 2:\", sentiment_q2['neutral_words'])"
      ],
      "metadata": {
        "id": "o67XmqiFSpDd"
      },
      "execution_count": null,
      "outputs": []
    },
    {
      "cell_type": "code",
      "source": [
        "# Print the positive, negative, and neutral words specifically for QUESTION 3\n",
        "print(\"\\nPositive words for Question 3:\", sentiment_q3['positive_words'])\n",
        "print(\"Negative words for Question 3:\", sentiment_q3['negative_words'])\n",
        "print(\"Neutral words for Question 3:\", sentiment_q3['neutral_words'])"
      ],
      "metadata": {
        "id": "MciLhHd8SqhR"
      },
      "execution_count": null,
      "outputs": []
    },
    {
      "cell_type": "code",
      "source": [
        "# Download one of the sentiment results for visualization purpose\n",
        "positive_words_df = pd.DataFrame(sentiment_q1, columns=['positive_words']) # sentiment_q1['positive_words'] is a list of words\n",
        "\n",
        "# Save the DataFrame as a CSV file and download it\n",
        "positive_words_df.to_csv('sentiment_q1.csv', index=False)\n",
        "\n",
        "from google.colab import files\n",
        "files.download('sentiment_q1.csv')"
      ],
      "metadata": {
        "id": "PE4e0VJj0ImS"
      },
      "execution_count": null,
      "outputs": []
    }
  ]
}