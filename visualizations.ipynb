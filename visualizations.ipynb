{
  "nbformat": 4,
  "nbformat_minor": 0,
  "metadata": {
    "colab": {
      "provenance": []
    },
    "kernelspec": {
      "name": "python3",
      "display_name": "Python 3"
    },
    "language_info": {
      "name": "python"
    }
  },
  "cells": [
    {
      "cell_type": "markdown",
      "source": [
        "# Bar Chart\n",
        "Goal: To visualize the distribution of sentiment (Positive, Negative, Neutral) in the feedback provided which helps in understanding the overall sentiment trend among respondents."
      ],
      "metadata": {
        "id": "hY3Lo_NVVbuS"
      }
    },
    {
      "cell_type": "code",
      "source": [
        "# Import the necessary libraries\n",
        "import matplotlib.pyplot as plt\n",
        "from google.colab import drive\n",
        "import pandas as pd\n",
        "from wordcloud import WordCloud\n",
        "\n",
        "# Data for plotting\n",
        "labels = ['Positive', 'Negative', 'Neutral'] # results obtained from the sentiment analysis i.e from sentiment.ipynb\n",
        "sizes = [51, 2, 21]\n",
        "colors = ['green', 'red', 'grey']\n",
        "\n",
        "# Plotting the data\n",
        "plt.figure(figsize=(8, 6))\n",
        "plt.bar(labels, sizes, color=colors)\n",
        "\n",
        "# Adding titles and labels\n",
        "plt.title('Plot Title')\n",
        "plt.xlabel('Sentiment')\n",
        "plt.ylabel('Count')\n",
        "\n",
        "# Display the plot\n",
        "plt.show()"
      ],
      "metadata": {
        "id": "zVW6HpMJ8SAc"
      },
      "execution_count": null,
      "outputs": []
    },
    {
      "cell_type": "code",
      "source": [
        "# Load the results obtained from the absa analysis i.e from asba.ipynb\n",
        "\n",
        "drive.mount('/content/drive')\n",
        "\n",
        "data = '/content/drive/MyDrive/path/sentiment_q1.csv'\n",
        "\n",
        "# Load the CSV file into a DataFrame\n",
        "df = pd.read_csv(data)"
      ],
      "metadata": {
        "id": "dq2QDtDK8UdS"
      },
      "execution_count": null,
      "outputs": []
    },
    {
      "cell_type": "markdown",
      "source": [
        "# Word Cloud\n",
        "Goal: To visualize the most frequently mentioned positive words from Question 1 feedback, excluding common or less meaningful words which allows us to identify key aspects that were appreciated by the respondents."
      ],
      "metadata": {
        "id": "Om3won7g6N65"
      }
    },
    {
      "cell_type": "code",
      "source": [
        "# The positive words from Question 1\n",
        "positive_words_q1 = df['positive_words']\n",
        "\n",
        "# Define a list of words to exclude if any\n",
        "custom_stopwords = ['word1', 'word2', 'word3', 'word4', 'word5', 'word6']\n",
        "\n",
        "# Filter out the unwanted words\n",
        "filtered_positive_words_q1 = [word for word in positive_words_q1 if word.lower() not in custom_stopwords]\n",
        "\n",
        "# Join the filtered list of positive words into a single string\n",
        "filtered_positive_words_str = ' '.join(filtered_positive_words_q1)\n",
        "\n",
        "# Generate the word cloud\n",
        "wordcloud = WordCloud(width=800, height=400, background_color='white').generate(filtered_positive_words_str)\n",
        "\n",
        "# Plot the word cloud\n",
        "plt.figure(figsize=(10, 5))\n",
        "plt.imshow(wordcloud, interpolation='bilinear')\n",
        "plt.title(\"QUESTION 1\", fontsize=18)\n",
        "plt.axis('off')\n",
        "plt.show()"
      ],
      "metadata": {
        "id": "IgAK7PA65OPF"
      },
      "execution_count": null,
      "outputs": []
    },
    {
      "cell_type": "markdown",
      "source": [
        "# Standalone Word Cloud"
      ],
      "metadata": {
        "id": "eFuDnwXy6zXv"
      }
    },
    {
      "cell_type": "code",
      "source": [
        "data = 'https://docs.google.com/spreadsheets/d/xxx/export'\n",
        "\n",
        "df = pd.read_excel(data)\n",
        "\n",
        "# Extract the text data from the specific column\n",
        "text_data = ' '.join(df['insert the specific question from the data to visual its responses'].dropna())\n",
        "\n",
        "# Generate the word cloud\n",
        "wordcloud = WordCloud(width=800, height=400, background_color='black').generate(text_data)\n",
        "\n",
        "# Plot the word cloud\n",
        "plt.figure(figsize=(10, 5))\n",
        "plt.imshow(wordcloud, interpolation='bicubic')\n",
        "plt.axis('off')\n",
        "plt.show()"
      ],
      "metadata": {
        "id": "TvCSgiEZ7dea"
      },
      "execution_count": null,
      "outputs": []
    }
  ]
}