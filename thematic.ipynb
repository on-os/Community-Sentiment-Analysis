{
  "nbformat": 4,
  "nbformat_minor": 0,
  "metadata": {
    "colab": {
      "provenance": []
    },
    "kernelspec": {
      "name": "python3",
      "display_name": "Python 3"
    },
    "language_info": {
      "name": "python"
    }
  },
  "cells": [
    {
      "cell_type": "markdown",
      "source": [
        "# Thematic Analysis\n",
        "Goal: To identify recurring words/topics within the responses for each question so that the feedback can be cegorized into common areas of concern, praise, and suggestions."
      ],
      "metadata": {
        "id": "2-JSdDUiu66v"
      }
    },
    {
      "cell_type": "code",
      "execution_count": null,
      "metadata": {
        "id": "QtP1rr8ISbaY"
      },
      "outputs": [],
      "source": [
        "# Import the necessary libraries\n",
        "import pandas as pd\n",
        "import nltk\n",
        "from nltk.corpus import stopwords\n",
        "from nltk.tokenize import word_tokenize\n",
        "from collections import Counter"
      ]
    },
    {
      "cell_type": "code",
      "source": [
        "# Load your dataset file into a DataFrame\n",
        "\n",
        "data = 'https://docs.google.com/spreadsheets/d/xxx/export'\n",
        "df = pd.read_excel(data)"
      ],
      "metadata": {
        "id": "VyBZWscLSc_e"
      },
      "execution_count": null,
      "outputs": []
    },
    {
      "cell_type": "code",
      "source": [
        "# Download NLTK data\n",
        "nltk.download('punkt')\n",
        "nltk.download('stopwords')"
      ],
      "metadata": {
        "id": "FaXYU18GSz_p",
        "colab": {
          "base_uri": "https://localhost:8080/"
        },
        "outputId": "4704087c-0497-4e1b-fe86-aab32a8c6f63"
      },
      "execution_count": 8,
      "outputs": [
        {
          "output_type": "stream",
          "name": "stderr",
          "text": [
            "[nltk_data] Downloading package punkt to /root/nltk_data...\n",
            "[nltk_data]   Package punkt is already up-to-date!\n",
            "[nltk_data] Downloading package stopwords to /root/nltk_data...\n",
            "[nltk_data]   Package stopwords is already up-to-date!\n"
          ]
        },
        {
          "output_type": "execute_result",
          "data": {
            "text/plain": [
              "True"
            ]
          },
          "metadata": {},
          "execution_count": 8
        }
      ]
    },
    {
      "cell_type": "code",
      "source": [
        "# Define the function that extracts themes from a given column\n",
        "def extract_themes(column_data):\n",
        "    stop_words = set(stopwords.words('english'))\n",
        "    all_words = []\n",
        "\n",
        "    for response in column_data.dropna():\n",
        "        words = word_tokenize(response.lower())\n",
        "        filtered_words = [word for word in words if word.isalnum() and word not in stop_words]\n",
        "        all_words.extend(filtered_words)\n",
        "\n",
        "    word_freq = Counter(all_words)\n",
        "    return word_freq.most_common(20)  # Get the top 20 most common themes"
      ],
      "metadata": {
        "id": "oEsXWUI00CZf"
      },
      "execution_count": 9,
      "outputs": []
    },
    {
      "cell_type": "code",
      "source": [
        "# Apply the function to each question\n",
        "themes_q1 = extract_themes(df['Place your QUESTION 1 here from a specific column in the feedback data'])\n",
        "themes_q2 = extract_themes(df['Place your QUESTION 2 here from a specific column in the feedback data'])\n",
        "themes_q3 = extract_themes(df['Place your QUESTION 3 here from a specific column in the feedback data'])\n",
        "# Add more questions if you have\n",
        "\n",
        "print(\"Top Themes for Question 1:\", themes_q1)\n",
        "print(\"Top Themes for Question 2:\", themes_q2)\n",
        "print(\"Top Themes for Question 3:\", themes_q3)"
      ],
      "metadata": {
        "id": "DXwGs8UAxXT_"
      },
      "execution_count": null,
      "outputs": []
    }
  ]
}